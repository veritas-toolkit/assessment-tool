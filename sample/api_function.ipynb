{
 "cells": [
  {
   "cell_type": "code",
   "execution_count": 2,
   "id": "d6bffd25",
   "metadata": {
    "ExecuteTime": {
     "start_time": "2023-05-09T16:21:28.803266Z",
     "end_time": "2023-05-09T16:21:28.812372Z"
    }
   },
   "outputs": [],
   "source": [
    "import requests\n",
    "import os\n",
    "import time\n",
    "\n",
    "host = 'http://127.0.0.1:8001'\n",
    "\n",
    "session = requests.Session()\n"
   ]
  },
  {
   "cell_type": "markdown",
   "id": "05c8061b",
   "metadata": {},
   "source": [
    "### Login"
   ]
  },
  {
   "cell_type": "code",
   "execution_count": 3,
   "id": "9d5ce86d",
   "metadata": {
    "ExecuteTime": {
     "start_time": "2023-05-09T16:21:41.164869Z",
     "end_time": "2023-05-09T16:21:41.173477Z"
    }
   },
   "outputs": [],
   "source": [
    "def login(username, password):\n",
    "    url = host + '/api/login'\n",
    "    r = session.post(url, json={'username': username, 'password': password})\n",
    "    print(r.json())\n",
    "    # print(r.headers)\n",
    "    print(r.cookies)\n",
    "    print(str(r))"
   ]
  },
  {
   "cell_type": "code",
   "execution_count": 21,
   "id": "e4b27de6",
   "metadata": {},
   "outputs": [
    {
     "name": "stdout",
     "output_type": "stream",
     "text": [
      "{'id': 2, 'username': 'yxy123456', 'fullName': 'yxy123456', 'email': 'yxy123456@example.com', 'admin': False, 'loginAttempt': 0, 'projectLimited': 100, 'groupLimited': 10, 'createdTime': '2023-03-29T09:45:25.497+08:00', 'lastLoginTime': '2023-04-04T15:56:32.395+08:00', 'finishedUserGuide': True, 'locked': False, 'shouldChangePassword': False}\n",
      "<RequestsCookieJar[<Cookie JSESSIONID=1F510C6C368F610006FD8C9C6DF6AB61 for 127.0.0.1/>]>\n",
      "<Response [200]>\n"
     ]
    }
   ],
   "source": [
    "login('YOUR_USERNAME', 'YOUR_PASSWORD')\n"
   ]
  },
  {
   "cell_type": "markdown",
   "id": "79321ad4",
   "metadata": {},
   "source": [
    "### Upload JSON"
   ]
  },
  {
   "cell_type": "code",
   "execution_count": 4,
   "id": "abdc15a8",
   "metadata": {},
   "outputs": [],
   "source": [
    "### get project id,need project id to upload json\n",
    "def get_project_info(user_owner=None, group_owner=None, project_name=None):\n",
    "    if user_owner is None and group_owner is None:\n",
    "        raise Exception\n",
    "    url = \"%s/api/project\" % (host)\n",
    "    current_page = 1\n",
    "    params = {\n",
    "        'keyword': project_name,\n",
    "        'page': 1,\n",
    "        'pageSize': 100\n",
    "    }\n",
    "    response = session.get(url, params=params)\n",
    "    content = response.json()\n",
    "    if 200 <= response.status_code < 299:\n",
    "        # print(content)\n",
    "        # print(str(content['records']))\n",
    "        for project in content['records']:\n",
    "            # print(project['name'])\n",
    "            # print(project_name)\n",
    "            if project_name == project['name']:\n",
    "                # print(project['name'])\n",
    "                # owner = project['userOwner']\n",
    "                if project['userOwner'] is not None:\n",
    "                    owner = project['userOwner']\n",
    "                    if user_owner == owner['username']:\n",
    "                        return project\n",
    "\n",
    "    else:\n",
    "        print(str(content))\n",
    "\n",
    "    return None"
   ]
  },
  {
   "cell_type": "code",
   "execution_count": 22,
   "id": "3163644e",
   "metadata": {},
   "outputs": [],
   "source": [
    "result_project_info = get_project_info(user_owner='yxy123456', group_owner=None, project_name='PUW Sample')"
   ]
  },
  {
   "cell_type": "code",
   "execution_count": 23,
   "id": "83155821",
   "metadata": {},
   "outputs": [
    {
     "data": {
      "text/plain": [
       "{'id': 17,\n",
       " 'name': 'PUW Sample',\n",
       " 'description': 'PUW Sample',\n",
       " 'userOwnerId': 2,\n",
       " 'groupOwnerId': None,\n",
       " 'businessScenario': 30,\n",
       " 'principleGeneric': True,\n",
       " 'principleFairness': True,\n",
       " 'principleEA': True,\n",
       " 'principleTransparency': True,\n",
       " 'currentModelArtifactVid': None,\n",
       " 'currentQuestionnaireVid': None,\n",
       " 'creatorUserId': 2,\n",
       " 'createdTime': '2023-04-04T10:07:20.183+08:00',\n",
       " 'lastEditedTime': '2023-04-04T10:07:20.183+08:00',\n",
       " 'archived': False,\n",
       " 'assessmentProgress': {'completed': 33, 'count': 50},\n",
       " 'userOwner': {'id': 2,\n",
       "  'username': 'yxy123456',\n",
       "  'fullName': 'yxy123456',\n",
       "  'email': 'yxy123456@example.com'},\n",
       " 'groupOwner': None}"
      ]
     },
     "execution_count": 23,
     "metadata": {},
     "output_type": "execute_result"
    }
   ],
   "source": [
    "result_project_info"
   ]
  },
  {
   "cell_type": "code",
   "execution_count": 24,
   "id": "d7694231",
   "metadata": {},
   "outputs": [
    {
     "data": {
      "text/plain": [
       "17"
      ]
     },
     "execution_count": 24,
     "metadata": {},
     "output_type": "execute_result"
    }
   ],
   "source": [
    "result_project_info['id']"
   ]
  },
  {
   "cell_type": "code",
   "execution_count": 26,
   "id": "38faa542",
   "metadata": {},
   "outputs": [],
   "source": [
    "def upload_json(project_id, json_path):\n",
    "    # org.veritas.assessment.biz.controller.ProjectController.uploadJson\n",
    "\n",
    "    # /{projectId}/modelArtifact\n",
    "    # file content as http body\n",
    "    url = \"%s/api/project/%d/modelArtifact\" % (host, project_id)\n",
    "    files = {'file': ('puw.json', open(json_path, 'rb'), 'application/json')}\n",
    "    response = session.post(url, files = files)\n",
    "    print(response.status_code)\n",
    "    print(response.json())"
   ]
  },
  {
   "cell_type": "code",
   "execution_count": 27,
   "id": "2f2720c7",
   "metadata": {},
   "outputs": [
    {
     "data": {
      "text/plain": [
       "['.DS_Store',\n",
       " 'API function.ipynb',\n",
       " '.ipynb_checkpoints',\n",
       " 'report_1.0.2.pdf',\n",
       " 'report_1.0.3.pdf',\n",
       " 'puw.json',\n",
       " 'report_1.0.1.pdf',\n",
       " 'report_1.0.0.pdf',\n",
       " 'report_1.0.4.pdf']"
      ]
     },
     "execution_count": 27,
     "metadata": {},
     "output_type": "execute_result"
    }
   ],
   "source": [
    "os.listdir()"
   ]
  },
  {
   "cell_type": "code",
   "execution_count": 28,
   "id": "bc2ebd48",
   "metadata": {},
   "outputs": [
    {
     "name": "stdout",
     "output_type": "stream",
     "text": [
      "200\n",
      "{'versionId': 23, 'projectId': 17, 'uploadUserId': 2, 'uploadTime': '2023-04-04T15:58:56.232+08:00', 'filename': 'puw.json', 'jsonContentSha256': '56bb1a71370c1c7f3ef35cb48d1d27e06c9eb9ffd261e9fd54182ea77153dd4f'}\n"
     ]
    }
   ],
   "source": [
    "upload_json(result_project_info['id'], \"puw.json\")\n"
   ]
  },
  {
   "cell_type": "code",
   "execution_count": null,
   "id": "12dbc30c",
   "metadata": {},
   "outputs": [],
   "source": []
  },
  {
   "cell_type": "markdown",
   "id": "87e85ac5",
   "metadata": {},
   "source": [
    "### Export Report"
   ]
  },
  {
   "cell_type": "code",
   "execution_count": 29,
   "id": "17ae6498",
   "metadata": {},
   "outputs": [],
   "source": [
    "def export(project_id, version, message):\n",
    "    # org.veritas.assessment.biz.controller.ProjectReportController.exportPdf\n",
    "    # /project/{projectId}/report/export\n",
    "    # body:\n",
    "    #   version\n",
    "    #   message\n",
    "    url = \"%s/api/project/%d/report/export\" % (host, project_id)\n",
    "    data = {'version': version, 'message': message}\n",
    "    # response = session.post(url, json = json.dumps(data))\n",
    "    response = session.post(url, json = data)\n",
    "    print(\"export\")\n",
    "    print(response.status_code)\n",
    "    print(response.json())\n",
    "    if 200 <= response.status_code < 300:\n",
    "        return response.json()\n",
    "    "
   ]
  },
  {
   "cell_type": "code",
   "execution_count": 30,
   "id": "b0a22978",
   "metadata": {},
   "outputs": [
    {
     "name": "stdout",
     "output_type": "stream",
     "text": [
      "export\n",
      "200\n",
      "{'versionId': 16, 'projectId': 17, 'versionIdOfProject': 6, 'creatorUserId': 2, 'creator': {'id': 2, 'username': 'yxy123456', 'fullName': 'yxy123456', 'email': 'yxy123456@example.com'}, 'createdTime': '2023-04-04T16:00:47.222+08:00', 'tag': None, 'message': 'v2.0.2 YOUR MESSAGE', 'version': '2.0.2', 'modelArtifactVid': 23, 'questionnaireVid': '22547126353395712'}\n"
     ]
    }
   ],
   "source": [
    "version = \"2.0.2\"\n",
    "message = 'v2.0.2 YOUR MESSAGE'\n",
    "result_export_report = export(result_project_info['id'], version, message)\n"
   ]
  },
  {
   "cell_type": "code",
   "execution_count": 31,
   "id": "febdd573",
   "metadata": {},
   "outputs": [
    {
     "data": {
      "text/plain": [
       "{'versionId': 16,\n",
       " 'projectId': 17,\n",
       " 'versionIdOfProject': 6,\n",
       " 'creatorUserId': 2,\n",
       " 'creator': {'id': 2,\n",
       "  'username': 'yxy123456',\n",
       "  'fullName': 'yxy123456',\n",
       "  'email': 'yxy123456@example.com'},\n",
       " 'createdTime': '2023-04-04T16:00:47.222+08:00',\n",
       " 'tag': None,\n",
       " 'message': 'v2.0.2 YOUR MESSAGE',\n",
       " 'version': '2.0.2',\n",
       " 'modelArtifactVid': 23,\n",
       " 'questionnaireVid': '22547126353395712'}"
      ]
     },
     "execution_count": 31,
     "metadata": {},
     "output_type": "execute_result"
    }
   ],
   "source": [
    "result_export_report "
   ]
  },
  {
   "cell_type": "markdown",
   "id": "bf8e5601",
   "metadata": {},
   "source": [
    "### Download Report"
   ]
  },
  {
   "cell_type": "code",
   "execution_count": 32,
   "id": "0aad37fc",
   "metadata": {},
   "outputs": [],
   "source": [
    "def download_pdf(project_id, versionIdOfProject, filename):\n",
    "    # org.veritas.assessment.biz.controller.ProjectVersionController.exportHistoryReport\n",
    "    url = \"%s/api/project/%d/history/%d/report\" % (host, project_id, versionIdOfProject)\n",
    "\n",
    "    response = session.get(url)\n",
    "    print(\"download pdf\")\n",
    "    if 200 <= response.status_code < 300:\n",
    "        content = response.content\n",
    "        pdf = open(filename, 'wb')\n",
    "        pdf.write(content)\n",
    "    else:\n",
    "        print(response.json())"
   ]
  },
  {
   "cell_type": "code",
   "execution_count": 33,
   "id": "d6d0e3d1",
   "metadata": {},
   "outputs": [
    {
     "name": "stdout",
     "output_type": "stream",
     "text": [
      "download pdf\n"
     ]
    }
   ],
   "source": [
    "filename = \"report_%s.pdf\" % result_export_report['version']\n",
    "download_pdf(result_project_info['id'], result_export_report['versionIdOfProject'], filename)\n",
    "\n"
   ]
  },
  {
   "cell_type": "code",
   "execution_count": 34,
   "id": "8d5de445",
   "metadata": {},
   "outputs": [
    {
     "data": {
      "text/plain": [
       "['.DS_Store',\n",
       " 'API function.ipynb',\n",
       " 'report_2.0.2.pdf',\n",
       " '.ipynb_checkpoints',\n",
       " 'report_1.0.2.pdf',\n",
       " 'report_1.0.3.pdf',\n",
       " 'puw.json',\n",
       " 'report_1.0.1.pdf',\n",
       " 'report_1.0.0.pdf',\n",
       " 'report_1.0.4.pdf']"
      ]
     },
     "execution_count": 34,
     "metadata": {},
     "output_type": "execute_result"
    }
   ],
   "source": [
    "os.listdir()"
   ]
  },
  {
   "cell_type": "code",
   "execution_count": null,
   "id": "8fdc1733",
   "metadata": {},
   "outputs": [],
   "source": []
  }
 ],
 "metadata": {
  "kernelspec": {
   "display_name": "Python 3 (ipykernel)",
   "language": "python",
   "name": "python3"
  },
  "language_info": {
   "codemirror_mode": {
    "name": "ipython",
    "version": 3
   },
   "file_extension": ".py",
   "mimetype": "text/x-python",
   "name": "python",
   "nbconvert_exporter": "python",
   "pygments_lexer": "ipython3",
   "version": "3.10.9"
  },
  "toc": {
   "base_numbering": 1,
   "nav_menu": {},
   "number_sections": true,
   "sideBar": true,
   "skip_h1_title": false,
   "title_cell": "Table of Contents",
   "title_sidebar": "Contents",
   "toc_cell": false,
   "toc_position": {},
   "toc_section_display": true,
   "toc_window_display": false
  }
 },
 "nbformat": 4,
 "nbformat_minor": 5
}
